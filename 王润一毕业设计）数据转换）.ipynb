{
 "cells": [
  {
   "cell_type": "code",
   "execution_count": 2,
   "metadata": {},
   "outputs": [],
   "source": [
    "import pandas as pd\n",
    "\n",
    "class_file = \"/Users/steven/Documents/class2402.csv\""
   ]
  },
  {
   "cell_type": "code",
   "execution_count": 3,
   "metadata": {},
   "outputs": [
    {
     "data": {
      "text/plain": [
       "<bound method NDFrame.head of       分类\n",
       "0      2\n",
       "1      7\n",
       "2      5\n",
       "3      1\n",
       "4      2\n",
       "...   ..\n",
       "2397   6\n",
       "2398   6\n",
       "2399   2\n",
       "2400   1\n",
       "2401   4\n",
       "\n",
       "[2402 rows x 1 columns]>"
      ]
     },
     "execution_count": 3,
     "metadata": {},
     "output_type": "execute_result"
    }
   ],
   "source": [
    "class_dataset = pd.read_csv(class_file)\n",
    "class_dataset.head"
   ]
  },
  {
   "cell_type": "code",
   "execution_count": 4,
   "metadata": {},
   "outputs": [],
   "source": [
    "# 人工进行情感标注，为机器学习做准备\n",
    "# 标注共分为3个大板块，9个小板块，对应序号1-9，对于无效评论，我们赋值0.\n",
    "\n",
    "# 系统（程序功能，系统体验，账户安全）       1, 2, 3 --> 123\n",
    "\n",
    "# 购物（商品质量，物流问题，交易纠纷）       4, 5, 6 --> 456\n",
    "\n",
    "# 内容（社区生态，审核监督，宣传推广）       7, 8, 9 --> 789\n",
    "\n",
    "# 无效评论   0 --> 0\n",
    "\n",
    "class_match_dic = {1: 123, 2: 123, 3: 123,\n",
    "                   4: 456, 5: 456, 6: 456,\n",
    "                   7: 789, 8: 789, 9: 789,\n",
    "                   0: 0}"
   ]
  },
  {
   "cell_type": "code",
   "execution_count": 5,
   "metadata": {},
   "outputs": [],
   "source": [
    "# 过滤掉短评论 往往没有太多价值\n",
    "first_label_list = []\n",
    "for index, row in class_dataset.iterrows():\n",
    "    second_label = row[\"分类\"]\n",
    "    first_label = class_match_dic[second_label]\n",
    "    first_label_list.append(first_label)"
   ]
  },
  {
   "cell_type": "code",
   "execution_count": 6,
   "metadata": {},
   "outputs": [
    {
     "data": {
      "text/html": [
       "<div>\n",
       "<style scoped>\n",
       "    .dataframe tbody tr th:only-of-type {\n",
       "        vertical-align: middle;\n",
       "    }\n",
       "\n",
       "    .dataframe tbody tr th {\n",
       "        vertical-align: top;\n",
       "    }\n",
       "\n",
       "    .dataframe thead th {\n",
       "        text-align: right;\n",
       "    }\n",
       "</style>\n",
       "<table border=\"1\" class=\"dataframe\">\n",
       "  <thead>\n",
       "    <tr style=\"text-align: right;\">\n",
       "      <th></th>\n",
       "      <th>分类</th>\n",
       "    </tr>\n",
       "  </thead>\n",
       "  <tbody>\n",
       "    <tr>\n",
       "      <th>0</th>\n",
       "      <td>123</td>\n",
       "    </tr>\n",
       "    <tr>\n",
       "      <th>1</th>\n",
       "      <td>789</td>\n",
       "    </tr>\n",
       "    <tr>\n",
       "      <th>2</th>\n",
       "      <td>456</td>\n",
       "    </tr>\n",
       "    <tr>\n",
       "      <th>3</th>\n",
       "      <td>123</td>\n",
       "    </tr>\n",
       "    <tr>\n",
       "      <th>4</th>\n",
       "      <td>123</td>\n",
       "    </tr>\n",
       "    <tr>\n",
       "      <th>...</th>\n",
       "      <td>...</td>\n",
       "    </tr>\n",
       "    <tr>\n",
       "      <th>2397</th>\n",
       "      <td>456</td>\n",
       "    </tr>\n",
       "    <tr>\n",
       "      <th>2398</th>\n",
       "      <td>456</td>\n",
       "    </tr>\n",
       "    <tr>\n",
       "      <th>2399</th>\n",
       "      <td>123</td>\n",
       "    </tr>\n",
       "    <tr>\n",
       "      <th>2400</th>\n",
       "      <td>123</td>\n",
       "    </tr>\n",
       "    <tr>\n",
       "      <th>2401</th>\n",
       "      <td>456</td>\n",
       "    </tr>\n",
       "  </tbody>\n",
       "</table>\n",
       "<p>2402 rows × 1 columns</p>\n",
       "</div>"
      ],
      "text/plain": [
       "       分类\n",
       "0     123\n",
       "1     789\n",
       "2     456\n",
       "3     123\n",
       "4     123\n",
       "...   ...\n",
       "2397  456\n",
       "2398  456\n",
       "2399  123\n",
       "2400  123\n",
       "2401  456\n",
       "\n",
       "[2402 rows x 1 columns]"
      ]
     },
     "execution_count": 6,
     "metadata": {},
     "output_type": "execute_result"
    }
   ],
   "source": [
    "original_data = {\"分类\": first_label_list}\n",
    "original_dataset = pd.DataFrame(original_data)\n",
    "original_dataset "
   ]
  },
  {
   "cell_type": "code",
   "execution_count": 7,
   "metadata": {},
   "outputs": [],
   "source": [
    "# 将向量化的结果进行输出,保存为csv格式，同时输出的结果不需要带上index索引，方便后续直接读取\n",
    "\n",
    "original_dataset.to_csv(\"/Users/steven/Downloads/label2402.csv\", index=False)"
   ]
  },
  {
   "cell_type": "code",
   "execution_count": null,
   "metadata": {},
   "outputs": [],
   "source": []
  },
  {
   "cell_type": "code",
   "execution_count": null,
   "metadata": {},
   "outputs": [],
   "source": []
  }
 ],
 "metadata": {
  "kernelspec": {
   "display_name": "Python 3 (ipykernel)",
   "language": "python",
   "name": "python3"
  },
  "language_info": {
   "codemirror_mode": {
    "name": "ipython",
    "version": 3
   },
   "file_extension": ".py",
   "mimetype": "text/x-python",
   "name": "python",
   "nbconvert_exporter": "python",
   "pygments_lexer": "ipython3",
   "version": "3.8.2"
  }
 },
 "nbformat": 4,
 "nbformat_minor": 4
}
